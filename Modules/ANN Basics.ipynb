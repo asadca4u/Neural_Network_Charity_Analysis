{
 "cells": [
  {
   "cell_type": "code",
   "execution_count": 1,
   "metadata": {},
   "outputs": [],
   "source": [
    "# Import our dependencies\n",
    "import pandas as pd\n",
    "import matplotlib as plt\n",
    "from sklearn.datasets import make_blobs\n",
    "import sklearn as skl\n",
    "import tensorflow as tf"
   ]
  },
  {
   "cell_type": "code",
   "execution_count": 2,
   "metadata": {},
   "outputs": [
    {
     "data": {
      "text/plain": [
       "<matplotlib.axes._subplots.AxesSubplot at 0x7fa6bda68690>"
      ]
     },
     "execution_count": 2,
     "metadata": {},
     "output_type": "execute_result"
    },
    {
     "data": {
      "image/png": "[encoded data removed]",
      "text/plain": [
       "<Figure size 432x288 with 2 Axes>"
      ]
     },
     "metadata": {
      "needs_background": "light"
     },
     "output_type": "display_data"
    }
   ],
   "source": [
    "# Generate dummy dataset\n",
    "X, y = make_blobs(n_samples=1000, centers=2, n_features=2, random_state=78)\n",
    "\n",
    "# Creating a DataFrame with the dummy data\n",
    "df = pd.DataFrame(X, columns=[\"Feature 1\", \"Feature 2\"])\n",
    "df[\"Target\"] = y\n",
    "\n",
    "# Plotting the dummy data\n",
    "df.plot.scatter(x=\"Feature 1\", y=\"Feature 2\", c=\"Target\", colormap=\"winter\")"
   ]
  },
  {
   "cell_type": "code",
   "execution_count": 3,
   "metadata": {},
   "outputs": [],
   "source": [
    "# Use sklearn to split dataset\n",
    "from sklearn.model_selection import train_test_split\n",
    "X_train, X_test, y_train, y_test = train_test_split(X, y, random_state=78)"
   ]
  },
  {
   "cell_type": "code",
   "execution_count": 4,
   "metadata": {},
   "outputs": [],
   "source": [
    "# Create scaler instance\n",
    "X_scaler = skl.preprocessing.StandardScaler()\n",
    "\n",
    "# Fit the scaler\n",
    "X_scaler.fit(X_train)\n",
    "\n",
    "# Scale the data\n",
    "X_train_scaled = X_scaler.transform(X_train)\n",
    "X_test_scaled = X_scaler.transform(X_test)"
   ]
  },
  {
   "cell_type": "code",
   "execution_count": 5,
   "metadata": {},
   "outputs": [],
   "source": [
    "# Create the Keras Sequential model\n",
    "nn_model = tf.keras.models.Sequential()"
   ]
  },
  {
   "cell_type": "code",
   "execution_count": 6,
   "metadata": {},
   "outputs": [],
   "source": [
    "# Add our first Dense layer, including the input layer\n",
    "nn_model.add(tf.keras.layers.Dense(units=1, activation=\"relu\", input_dim=2))"
   ]
  },
  {
   "cell_type": "code",
   "execution_count": 7,
   "metadata": {},
   "outputs": [],
   "source": [
    "# Add the output layer that uses a probability activation function\n",
    "nn_model.add(tf.keras.layers.Dense(units=1, activation=\"sigmoid\"))"
   ]
  },
  {
   "cell_type": "code",
   "execution_count": 8,
   "metadata": {},
   "outputs": [
    {
     "name": "stdout",
     "output_type": "stream",
     "text": [
      "Model: \"sequential\"\n",
      "_________________________________________________________________\n",
      "Layer (type)                 Output Shape              Param #   \n",
      "=================================================================\n",
      "dense (Dense)                (None, 1)                 3         \n",
      "_________________________________________________________________\n",
      "dense_1 (Dense)              (None, 1)                 2         \n",
      "=================================================================\n",
      "Total params: 5\n",
      "Trainable params: 5\n",
      "Non-trainable params: 0\n",
      "_________________________________________________________________\n"
     ]
    }
   ],
   "source": [
    "# Check the structure of the Sequential model\n",
    "nn_model.summary()"
   ]
  },
  {
   "cell_type": "code",
   "execution_count": 9,
   "metadata": {},
   "outputs": [],
   "source": [
    "# Compile the Sequential model together and customize metrics\n",
    "nn_model.compile(loss=\"binary_crossentropy\", optimizer=\"adam\", metrics=[\"accuracy\"])"
   ]
  },
  {
   "cell_type": "code",
   "execution_count": 10,
   "metadata": {},
   "outputs": [
    {
     "name": "stdout",
     "output_type": "stream",
     "text": [
      "Epoch 1/100\n",
      "24/24 [==============================] - 0s 1ms/step - loss: 0.6993 - accuracy: 0.4720\n",
      "Epoch 2/100\n",
      "24/24 [==============================] - 0s 4ms/step - loss: 0.6921 - accuracy: 0.5293\n",
      "Epoch 3/100\n",
      "24/24 [==============================] - 0s 2ms/step - loss: 0.6852 - accuracy: 0.7280\n",
      "Epoch 4/100\n",
      "24/24 [==============================] - 0s 3ms/step - loss: 0.6727 - accuracy: 0.8427\n",
      "Epoch 5/100\n",
      "24/24 [==============================] - 0s 2ms/step - loss: 0.6556 - accuracy: 0.9080\n",
      "Epoch 6/100\n",
      "24/24 [==============================] - 0s 3ms/step - loss: 0.6366 - accuracy: 0.9307\n",
      "Epoch 7/100\n",
      "24/24 [==============================] - 0s 2ms/step - loss: 0.6169 - accuracy: 0.9427\n",
      "Epoch 8/100\n",
      "24/24 [==============================] - 0s 2ms/step - loss: 0.5976 - accuracy: 0.9480\n",
      "Epoch 9/100\n",
      "24/24 [==============================] - 0s 2ms/step - loss: 0.5786 - accuracy: 0.9507\n",
      "Epoch 10/100\n",
      "24/24 [==============================] - 0s 1ms/step - loss: 0.5600 - accuracy: 0.9573\n",
      "Epoch 11/100\n",
      "24/24 [==============================] - 0s 2ms/step - loss: 0.5419 - accuracy: 0.9667\n",
      "Epoch 12/100\n",
      "24/24 [==============================] - 0s 2ms/step - loss: 0.5241 - accuracy: 0.9733\n",
      "Epoch 13/100\n",
      "24/24 [==============================] - 0s 2ms/step - loss: 0.5070 - accuracy: 0.9773\n",
      "Epoch 14/100\n",
      "24/24 [==============================] - 0s 3ms/step - loss: 0.4905 - accuracy: 0.9800\n",
      "Epoch 15/100\n",
      "24/24 [==============================] - 0s 2ms/step - loss: 0.4745 - accuracy: 0.9800\n",
      "Epoch 16/100\n",
      "24/24 [==============================] - 0s 2ms/step - loss: 0.4592 - accuracy: 0.9813\n",
      "Epoch 17/100\n",
      "24/24 [==============================] - 0s 2ms/step - loss: 0.4445 - accuracy: 0.9813\n",
      "Epoch 18/100\n",
      "24/24 [==============================] - 0s 2ms/step - loss: 0.4304 - accuracy: 0.9827\n",
      "Epoch 19/100\n",
      "24/24 [==============================] - 0s 2ms/step - loss: 0.4169 - accuracy: 0.9853\n",
      "Epoch 20/100\n",
      "24/24 [==============================] - 0s 2ms/step - loss: 0.4039 - accuracy: 0.9880\n",
      "Epoch 21/100\n",
      "24/24 [==============================] - 0s 3ms/step - loss: 0.3915 - accuracy: 0.9880\n",
      "Epoch 22/100\n",
      "24/24 [==============================] - 0s 2ms/step - loss: 0.3797 - accuracy: 0.9880\n",
      "Epoch 23/100\n",
      "24/24 [==============================] - 0s 2ms/step - loss: 0.3684 - accuracy: 0.9893\n",
      "Epoch 24/100\n",
      "24/24 [==============================] - 0s 2ms/step - loss: 0.3575 - accuracy: 0.9893\n",
      "Epoch 25/100\n",
      "24/24 [==============================] - 0s 2ms/step - loss: 0.3472 - accuracy: 0.9893\n",
      "Epoch 26/100\n",
      "24/24 [==============================] - 0s 2ms/step - loss: 0.3373 - accuracy: 0.9907\n",
      "Epoch 27/100\n",
      "24/24 [==============================] - 0s 3ms/step - loss: 0.3278 - accuracy: 0.9907\n",
      "Epoch 28/100\n",
      "24/24 [==============================] - 0s 2ms/step - loss: 0.3187 - accuracy: 0.9907\n",
      "Epoch 29/100\n",
      "24/24 [==============================] - 0s 2ms/step - loss: 0.3100 - accuracy: 0.9907\n",
      "Epoch 30/100\n",
      "24/24 [==============================] - 0s 2ms/step - loss: 0.3017 - accuracy: 0.9907\n",
      "Epoch 31/100\n",
      "24/24 [==============================] - 0s 2ms/step - loss: 0.2937 - accuracy: 0.9920\n",
      "Epoch 32/100\n",
      "24/24 [==============================] - 0s 2ms/step - loss: 0.2860 - accuracy: 0.9933\n",
      "Epoch 33/100\n",
      "24/24 [==============================] - 0s 3ms/step - loss: 0.2786 - accuracy: 0.9933\n",
      "Epoch 34/100\n",
      "24/24 [==============================] - 0s 2ms/step - loss: 0.2715 - accuracy: 0.9933\n",
      "Epoch 35/100\n",
      "24/24 [==============================] - 0s 2ms/step - loss: 0.2647 - accuracy: 0.9947\n",
      "Epoch 36/100\n",
      "24/24 [==============================] - 0s 2ms/step - loss: 0.2581 - accuracy: 0.9960\n",
      "Epoch 37/100\n",
      "24/24 [==============================] - 0s 2ms/step - loss: 0.2518 - accuracy: 0.9960\n",
      "Epoch 38/100\n",
      "24/24 [==============================] - 0s 2ms/step - loss: 0.2457 - accuracy: 0.9960\n",
      "Epoch 39/100\n",
      "24/24 [==============================] - 0s 2ms/step - loss: 0.2398 - accuracy: 0.9960\n",
      "Epoch 40/100\n",
      "24/24 [==============================] - 0s 2ms/step - loss: 0.2341 - accuracy: 0.9960\n",
      "Epoch 41/100\n",
      "24/24 [==============================] - 0s 2ms/step - loss: 0.2286 - accuracy: 0.9960\n",
      "Epoch 42/100\n",
      "24/24 [==============================] - 0s 2ms/step - loss: 0.2233 - accuracy: 0.9960\n",
      "Epoch 43/100\n",
      "24/24 [==============================] - 0s 1ms/step - loss: 0.2182 - accuracy: 0.9960\n",
      "Epoch 44/100\n",
      "24/24 [==============================] - 0s 2ms/step - loss: 0.2132 - accuracy: 0.9960\n",
      "Epoch 45/100\n",
      "24/24 [==============================] - 0s 2ms/step - loss: 0.2085 - accuracy: 0.9960\n",
      "Epoch 46/100\n",
      "24/24 [==============================] - 0s 2ms/step - loss: 0.2038 - accuracy: 0.9973\n",
      "Epoch 47/100\n",
      "24/24 [==============================] - 0s 2ms/step - loss: 0.1994 - accuracy: 0.9987\n",
      "Epoch 48/100\n",
      "24/24 [==============================] - 0s 2ms/step - loss: 0.1950 - accuracy: 0.9987\n",
      "Epoch 49/100\n",
      "24/24 [==============================] - 0s 2ms/step - loss: 0.1908 - accuracy: 0.9987\n",
      "Epoch 50/100\n",
      "24/24 [==============================] - 0s 2ms/step - loss: 0.1867 - accuracy: 0.9987\n",
      "Epoch 51/100\n",
      "24/24 [==============================] - 0s 2ms/step - loss: 0.1827 - accuracy: 0.9987\n",
      "Epoch 52/100\n",
      "24/24 [==============================] - 0s 2ms/step - loss: 0.1789 - accuracy: 0.9987\n",
      "Epoch 53/100\n",
      "24/24 [==============================] - 0s 2ms/step - loss: 0.1752 - accuracy: 0.9987\n",
      "Epoch 54/100\n",
      "24/24 [==============================] - 0s 2ms/step - loss: 0.1715 - accuracy: 0.9987\n",
      "Epoch 55/100\n",
      "24/24 [==============================] - 0s 1ms/step - loss: 0.1680 - accuracy: 0.9987\n",
      "Epoch 56/100\n",
      "24/24 [==============================] - 0s 3ms/step - loss: 0.1646 - accuracy: 0.9987\n",
      "Epoch 57/100\n",
      "24/24 [==============================] - 0s 1ms/step - loss: 0.1613 - accuracy: 0.9987\n",
      "Epoch 58/100\n",
      "24/24 [==============================] - 0s 1ms/step - loss: 0.1581 - accuracy: 0.9987\n",
      "Epoch 59/100\n",
      "24/24 [==============================] - 0s 2ms/step - loss: 0.1549 - accuracy: 0.9987\n",
      "Epoch 60/100\n",
      "24/24 [==============================] - 0s 1ms/step - loss: 0.1519 - accuracy: 0.9987\n",
      "Epoch 61/100\n",
      "24/24 [==============================] - 0s 2ms/step - loss: 0.1489 - accuracy: 1.0000\n",
      "Epoch 62/100\n",
      "24/24 [==============================] - 0s 2ms/step - loss: 0.1460 - accuracy: 1.0000\n",
      "Epoch 63/100\n",
      "24/24 [==============================] - 0s 2ms/step - loss: 0.1432 - accuracy: 1.0000\n",
      "Epoch 64/100\n",
      "24/24 [==============================] - 0s 1ms/step - loss: 0.1405 - accuracy: 1.0000\n",
      "Epoch 65/100\n",
      "24/24 [==============================] - 0s 2ms/step - loss: 0.1379 - accuracy: 1.0000\n",
      "Epoch 66/100\n",
      "24/24 [==============================] - 0s 3ms/step - loss: 0.1353 - accuracy: 1.0000\n",
      "Epoch 67/100\n",
      "24/24 [==============================] - 0s 2ms/step - loss: 0.1328 - accuracy: 1.0000\n",
      "Epoch 68/100\n",
      "24/24 [==============================] - 0s 2ms/step - loss: 0.1304 - accuracy: 1.0000\n",
      "Epoch 69/100\n",
      "24/24 [==============================] - 0s 2ms/step - loss: 0.1280 - accuracy: 1.0000\n",
      "Epoch 70/100\n",
      "24/24 [==============================] - 0s 1ms/step - loss: 0.1257 - accuracy: 1.0000\n",
      "Epoch 71/100\n",
      "24/24 [==============================] - 0s 2ms/step - loss: 0.1234 - accuracy: 1.0000\n",
      "Epoch 72/100\n",
      "24/24 [==============================] - 0s 1ms/step - loss: 0.1212 - accuracy: 1.0000\n",
      "Epoch 73/100\n",
      "24/24 [==============================] - 0s 2ms/step - loss: 0.1190 - accuracy: 1.0000\n",
      "Epoch 74/100\n",
      "24/24 [==============================] - 0s 2ms/step - loss: 0.1169 - accuracy: 1.0000\n",
      "Epoch 75/100\n",
      "24/24 [==============================] - 0s 1ms/step - loss: 0.1149 - accuracy: 1.0000\n",
      "Epoch 76/100\n",
      "24/24 [==============================] - 0s 2ms/step - loss: 0.1129 - accuracy: 1.0000\n",
      "Epoch 77/100\n",
      "24/24 [==============================] - 0s 1ms/step - loss: 0.1109 - accuracy: 1.0000\n",
      "Epoch 78/100\n",
      "24/24 [==============================] - 0s 2ms/step - loss: 0.1090 - accuracy: 1.0000\n",
      "Epoch 79/100\n",
      "24/24 [==============================] - 0s 3ms/step - loss: 0.1071 - accuracy: 1.0000\n",
      "Epoch 80/100\n",
      "24/24 [==============================] - 0s 2ms/step - loss: 0.1053 - accuracy: 1.0000\n",
      "Epoch 81/100\n",
      "24/24 [==============================] - 0s 2ms/step - loss: 0.1036 - accuracy: 1.0000\n",
      "Epoch 82/100\n",
      "24/24 [==============================] - 0s 2ms/step - loss: 0.1018 - accuracy: 1.0000\n",
      "Epoch 83/100\n"
     ]
    },
    {
     "name": "stdout",
     "output_type": "stream",
     "text": [
      "24/24 [==============================] - 0s 1ms/step - loss: 0.1001 - accuracy: 1.0000\n",
      "Epoch 84/100\n",
      "24/24 [==============================] - 0s 3ms/step - loss: 0.0985 - accuracy: 1.0000\n",
      "Epoch 85/100\n",
      "24/24 [==============================] - 0s 4ms/step - loss: 0.0968 - accuracy: 1.0000: 0s - loss: 0.0941 - accuracy: 1.00\n",
      "Epoch 86/100\n",
      "24/24 [==============================] - 0s 2ms/step - loss: 0.0953 - accuracy: 1.0000\n",
      "Epoch 87/100\n",
      "24/24 [==============================] - 0s 2ms/step - loss: 0.0937 - accuracy: 1.0000\n",
      "Epoch 88/100\n",
      "24/24 [==============================] - 0s 2ms/step - loss: 0.0922 - accuracy: 1.0000\n",
      "Epoch 89/100\n",
      "24/24 [==============================] - 0s 2ms/step - loss: 0.0907 - accuracy: 1.0000\n",
      "Epoch 90/100\n",
      "24/24 [==============================] - 0s 3ms/step - loss: 0.0892 - accuracy: 1.0000\n",
      "Epoch 91/100\n",
      "24/24 [==============================] - 0s 2ms/step - loss: 0.0878 - accuracy: 1.0000\n",
      "Epoch 92/100\n",
      "24/24 [==============================] - 0s 3ms/step - loss: 0.0864 - accuracy: 1.0000\n",
      "Epoch 93/100\n",
      "24/24 [==============================] - 0s 2ms/step - loss: 0.0851 - accuracy: 1.0000\n",
      "Epoch 94/100\n",
      "24/24 [==============================] - 0s 2ms/step - loss: 0.0837 - accuracy: 1.0000\n",
      "Epoch 95/100\n",
      "24/24 [==============================] - 0s 3ms/step - loss: 0.0824 - accuracy: 1.0000\n",
      "Epoch 96/100\n",
      "24/24 [==============================] - 0s 3ms/step - loss: 0.0812 - accuracy: 1.0000\n",
      "Epoch 97/100\n",
      "24/24 [==============================] - 0s 1ms/step - loss: 0.0799 - accuracy: 1.0000\n",
      "Epoch 98/100\n",
      "24/24 [==============================] - 0s 1ms/step - loss: 0.0787 - accuracy: 1.0000\n",
      "Epoch 99/100\n",
      "24/24 [==============================] - 0s 1ms/step - loss: 0.0775 - accuracy: 1.0000\n",
      "Epoch 100/100\n",
      "24/24 [==============================] - 0s 1ms/step - loss: 0.0763 - accuracy: 1.0000\n"
     ]
    }
   ],
   "source": [
    "# Fit the model to the training data\n",
    "fit_model = nn_model.fit(X_train_scaled, y_train, epochs=100)"
   ]
  },
  {
   "cell_type": "code",
   "execution_count": 11,
   "metadata": {},
   "outputs": [
    {
     "data": {
      "text/plain": [
       "<matplotlib.axes._subplots.AxesSubplot at 0x7fa6be72b810>"
      ]
     },
     "execution_count": 11,
     "metadata": {},
     "output_type": "execute_result"
    },
    {
     "data": {
      "image/png": "[encoded data removed]",
      "text/plain": [
       "<Figure size 432x288 with 1 Axes>"
      ]
     },
     "metadata": {
      "needs_background": "light"
     },
     "output_type": "display_data"
    }
   ],
   "source": [
    "# Create a DataFrame containing training history\n",
    "history_df = pd.DataFrame(fit_model.history, index=range(1,len(fit_model.history[\"loss\"])+1))\n",
    "\n",
    "# Plot the loss\n",
    "history_df.plot(y=\"loss\")"
   ]
  },
  {
   "cell_type": "code",
   "execution_count": 12,
   "metadata": {},
   "outputs": [
    {
     "data": {
      "text/plain": [
       "<matplotlib.axes._subplots.AxesSubplot at 0x7fa6bec9c790>"
      ]
     },
     "execution_count": 12,
     "metadata": {},
     "output_type": "execute_result"
    },
    {
     "data": {
      "image/png": "[encoded data removed]",
      "text/plain": [
       "<Figure size 432x288 with 1 Axes>"
      ]
     },
     "metadata": {
      "needs_background": "light"
     },
     "output_type": "display_data"
    }
   ],
   "source": [
    "# Plot the accuracy\n",
    "history_df.plot(y=\"accuracy\")"
   ]
  },
  {
   "cell_type": "code",
   "execution_count": 13,
   "metadata": {},
   "outputs": [
    {
     "name": "stdout",
     "output_type": "stream",
     "text": [
      "8/8 - 0s - loss: 0.0714 - accuracy: 1.0000\n",
      "Loss: 0.0713946744799614, Accuracy: 1.0\n"
     ]
    }
   ],
   "source": [
    "# Evaluate the model using the test data\n",
    "model_loss, model_accuracy = nn_model.evaluate(X_test_scaled,y_test,verbose=2)\n",
    "print(f\"Loss: {model_loss}, Accuracy: {model_accuracy}\")"
   ]
  },
  {
   "cell_type": "code",
   "execution_count": 14,
   "metadata": {},
   "outputs": [
    {
     "data": {
      "text/plain": [
       "array([[0],\n",
       "       [1],\n",
       "       [0],\n",
       "       [1],\n",
       "       [0],\n",
       "       [0],\n",
       "       [1],\n",
       "       [1],\n",
       "       [1],\n",
       "       [0]], dtype=int32)"
      ]
     },
     "execution_count": 14,
     "metadata": {},
     "output_type": "execute_result"
    }
   ],
   "source": [
    "# Predict the classification of a new set of blob data\n",
    "new_X, new_Y = make_blobs(n_samples=10, centers=2, n_features=2, random_state=78)\n",
    "new_X_scaled = X_scaler.transform(new_X)\n",
    "(nn_model.predict(new_X_scaled) > 0.5).astype(\"int32\")"
   ]
  },
  {
   "cell_type": "code",
   "execution_count": 15,
   "metadata": {},
   "outputs": [
    {
     "data": {
      "text/plain": [
       "<matplotlib.axes._subplots.AxesSubplot at 0x7fa6bef521d0>"
      ]
     },
     "execution_count": 15,
     "metadata": {},
     "output_type": "execute_result"
    },
    {
     "data": {
      "image/png": "[encoded data removed]",
      "text/plain": [
       "<Figure size 432x288 with 2 Axes>"
      ]
     },
     "metadata": {
      "needs_background": "light"
     },
     "output_type": "display_data"
    }
   ],
   "source": [
    "from sklearn.datasets import make_moons\n",
    "\n",
    "# Creating dummy nonlinear data\n",
    "X_moons, y_moons = make_moons(n_samples=1000, noise=0.08, random_state=78)\n",
    "\n",
    "# Transforming y_moons to a vertical vector\n",
    "y_moons = y_moons.reshape(-1, 1)\n",
    "\n",
    "# Creating a DataFrame to plot the nonlinear dummy data\n",
    "df_moons = pd.DataFrame(X_moons, columns=[\"Feature 1\", \"Feature 2\"])\n",
    "df_moons[\"Target\"] = y_moons\n",
    "\n",
    "# Plot the nonlinear dummy data\n",
    "df_moons.plot.scatter(x=\"Feature 1\",y=\"Feature 2\", c=\"Target\",colormap=\"winter\")"
   ]
  },
  {
   "cell_type": "code",
   "execution_count": 16,
   "metadata": {},
   "outputs": [],
   "source": [
    "# Create training and testing sets\n",
    "X_moon_train, X_moon_test, y_moon_train, y_moon_test = train_test_split(\n",
    "    X_moons, y_moons, random_state=78\n",
    ")\n",
    "\n",
    "# Create the scaler instance\n",
    "X_moon_scaler = skl.preprocessing.StandardScaler()\n",
    "\n",
    "# Fit the scaler\n",
    "X_moon_scaler.fit(X_moon_train)\n",
    "\n",
    "# Scale the data\n",
    "X_moon_train_scaled = X_moon_scaler.transform(X_moon_train)\n",
    "X_moon_test_scaled = X_moon_scaler.transform(X_moon_test)"
   ]
  },
  {
   "cell_type": "code",
   "execution_count": 17,
   "metadata": {},
   "outputs": [
    {
     "name": "stdout",
     "output_type": "stream",
     "text": [
      "Epoch 1/100\n",
      "24/24 [==============================] - 0s 2ms/step - loss: 1.0025 - accuracy: 0.4840\n",
      "Epoch 2/100\n",
      "24/24 [==============================] - 0s 3ms/step - loss: 0.8495 - accuracy: 0.5293\n",
      "Epoch 3/100\n",
      "24/24 [==============================] - 0s 2ms/step - loss: 0.7526 - accuracy: 0.5587\n",
      "Epoch 4/100\n",
      "24/24 [==============================] - 0s 2ms/step - loss: 0.6886 - accuracy: 0.5867\n",
      "Epoch 5/100\n",
      "24/24 [==============================] - 0s 3ms/step - loss: 0.6405 - accuracy: 0.6067\n",
      "Epoch 6/100\n",
      "24/24 [==============================] - 0s 3ms/step - loss: 0.6028 - accuracy: 0.6293\n",
      "Epoch 7/100\n",
      "24/24 [==============================] - 0s 2ms/step - loss: 0.5711 - accuracy: 0.6533\n",
      "Epoch 8/100\n",
      "24/24 [==============================] - 0s 2ms/step - loss: 0.5444 - accuracy: 0.6680\n",
      "Epoch 9/100\n",
      "24/24 [==============================] - 0s 4ms/step - loss: 0.5217 - accuracy: 0.6787\n",
      "Epoch 10/100\n",
      "24/24 [==============================] - 0s 5ms/step - loss: 0.5010 - accuracy: 0.6947\n",
      "Epoch 11/100\n",
      "24/24 [==============================] - 0s 6ms/step - loss: 0.4828 - accuracy: 0.7080\n",
      "Epoch 12/100\n",
      "24/24 [==============================] - 0s 2ms/step - loss: 0.4665 - accuracy: 0.7187\n",
      "Epoch 13/100\n",
      "24/24 [==============================] - 0s 3ms/step - loss: 0.4518 - accuracy: 0.7307\n",
      "Epoch 14/100\n",
      "24/24 [==============================] - 0s 3ms/step - loss: 0.4383 - accuracy: 0.7387\n",
      "Epoch 15/100\n",
      "24/24 [==============================] - 0s 2ms/step - loss: 0.4260 - accuracy: 0.7547\n",
      "Epoch 16/100\n",
      "24/24 [==============================] - 0s 3ms/step - loss: 0.4145 - accuracy: 0.7667\n",
      "Epoch 17/100\n",
      "24/24 [==============================] - 0s 3ms/step - loss: 0.4040 - accuracy: 0.7787\n",
      "Epoch 18/100\n",
      "24/24 [==============================] - 0s 4ms/step - loss: 0.3940 - accuracy: 0.7840\n",
      "Epoch 19/100\n",
      "24/24 [==============================] - 0s 3ms/step - loss: 0.3849 - accuracy: 0.7867\n",
      "Epoch 20/100\n",
      "24/24 [==============================] - 0s 3ms/step - loss: 0.3763 - accuracy: 0.7947\n",
      "Epoch 21/100\n",
      "24/24 [==============================] - 0s 2ms/step - loss: 0.3682 - accuracy: 0.7973\n",
      "Epoch 22/100\n",
      "24/24 [==============================] - 0s 2ms/step - loss: 0.3607 - accuracy: 0.8013\n",
      "Epoch 23/100\n",
      "24/24 [==============================] - 0s 4ms/step - loss: 0.3537 - accuracy: 0.8067\n",
      "Epoch 24/100\n",
      "24/24 [==============================] - 0s 3ms/step - loss: 0.3473 - accuracy: 0.8147\n",
      "Epoch 25/100\n",
      "24/24 [==============================] - 0s 2ms/step - loss: 0.3416 - accuracy: 0.8200\n",
      "Epoch 26/100\n",
      "24/24 [==============================] - 0s 3ms/step - loss: 0.3362 - accuracy: 0.8253\n",
      "Epoch 27/100\n",
      "24/24 [==============================] - 0s 3ms/step - loss: 0.3315 - accuracy: 0.8333\n",
      "Epoch 28/100\n",
      "24/24 [==============================] - 0s 2ms/step - loss: 0.3270 - accuracy: 0.8427\n",
      "Epoch 29/100\n",
      "24/24 [==============================] - 0s 3ms/step - loss: 0.3231 - accuracy: 0.8427\n",
      "Epoch 30/100\n",
      "24/24 [==============================] - 0s 3ms/step - loss: 0.3194 - accuracy: 0.8467\n",
      "Epoch 31/100\n",
      "24/24 [==============================] - 0s 2ms/step - loss: 0.3161 - accuracy: 0.8520\n",
      "Epoch 32/100\n",
      "24/24 [==============================] - 0s 3ms/step - loss: 0.3129 - accuracy: 0.8560\n",
      "Epoch 33/100\n",
      "24/24 [==============================] - 0s 2ms/step - loss: 0.3099 - accuracy: 0.8587\n",
      "Epoch 34/100\n",
      "24/24 [==============================] - 0s 3ms/step - loss: 0.3073 - accuracy: 0.8613\n",
      "Epoch 35/100\n",
      "24/24 [==============================] - 0s 2ms/step - loss: 0.3048 - accuracy: 0.8653\n",
      "Epoch 36/100\n",
      "24/24 [==============================] - 0s 3ms/step - loss: 0.3024 - accuracy: 0.8667\n",
      "Epoch 37/100\n",
      "24/24 [==============================] - 0s 2ms/step - loss: 0.3003 - accuracy: 0.8680\n",
      "Epoch 38/100\n",
      "24/24 [==============================] - 0s 3ms/step - loss: 0.2981 - accuracy: 0.8680\n",
      "Epoch 39/100\n",
      "24/24 [==============================] - 0s 2ms/step - loss: 0.2963 - accuracy: 0.8707\n",
      "Epoch 40/100\n",
      "24/24 [==============================] - 0s 3ms/step - loss: 0.2944 - accuracy: 0.8707\n",
      "Epoch 41/100\n",
      "24/24 [==============================] - 0s 3ms/step - loss: 0.2928 - accuracy: 0.8707\n",
      "Epoch 42/100\n",
      "24/24 [==============================] - 0s 3ms/step - loss: 0.2911 - accuracy: 0.8707\n",
      "Epoch 43/100\n",
      "24/24 [==============================] - 0s 2ms/step - loss: 0.2896 - accuracy: 0.8720\n",
      "Epoch 44/100\n",
      "24/24 [==============================] - 0s 3ms/step - loss: 0.2884 - accuracy: 0.8720\n",
      "Epoch 45/100\n",
      "24/24 [==============================] - 0s 2ms/step - loss: 0.2868 - accuracy: 0.8733\n",
      "Epoch 46/100\n",
      "24/24 [==============================] - 0s 4ms/step - loss: 0.2855 - accuracy: 0.8733\n",
      "Epoch 47/100\n",
      "24/24 [==============================] - 0s 2ms/step - loss: 0.2843 - accuracy: 0.8733\n",
      "Epoch 48/100\n",
      "24/24 [==============================] - 0s 3ms/step - loss: 0.2831 - accuracy: 0.8747\n",
      "Epoch 49/100\n",
      "24/24 [==============================] - 0s 3ms/step - loss: 0.2820 - accuracy: 0.8760\n",
      "Epoch 50/100\n",
      "24/24 [==============================] - 0s 3ms/step - loss: 0.2810 - accuracy: 0.8800\n",
      "Epoch 51/100\n",
      "24/24 [==============================] - 0s 3ms/step - loss: 0.2800 - accuracy: 0.8800\n",
      "Epoch 52/100\n",
      "24/24 [==============================] - 0s 3ms/step - loss: 0.2791 - accuracy: 0.8800\n",
      "Epoch 53/100\n",
      "24/24 [==============================] - 0s 2ms/step - loss: 0.2781 - accuracy: 0.8840\n",
      "Epoch 54/100\n",
      "24/24 [==============================] - 0s 4ms/step - loss: 0.2774 - accuracy: 0.8840\n",
      "Epoch 55/100\n",
      "24/24 [==============================] - 0s 2ms/step - loss: 0.2764 - accuracy: 0.8853\n",
      "Epoch 56/100\n",
      "24/24 [==============================] - 0s 2ms/step - loss: 0.2756 - accuracy: 0.8853\n",
      "Epoch 57/100\n",
      "24/24 [==============================] - 0s 2ms/step - loss: 0.2748 - accuracy: 0.8867\n",
      "Epoch 58/100\n",
      "24/24 [==============================] - 0s 3ms/step - loss: 0.2741 - accuracy: 0.8880\n",
      "Epoch 59/100\n",
      "24/24 [==============================] - 0s 2ms/step - loss: 0.2733 - accuracy: 0.8893\n",
      "Epoch 60/100\n",
      "24/24 [==============================] - 0s 2ms/step - loss: 0.2726 - accuracy: 0.8893\n",
      "Epoch 61/100\n",
      "24/24 [==============================] - 0s 2ms/step - loss: 0.2720 - accuracy: 0.8920\n",
      "Epoch 62/100\n",
      "24/24 [==============================] - 0s 3ms/step - loss: 0.2713 - accuracy: 0.8920\n",
      "Epoch 63/100\n",
      "24/24 [==============================] - 0s 2ms/step - loss: 0.2708 - accuracy: 0.8920\n",
      "Epoch 64/100\n",
      "24/24 [==============================] - 0s 2ms/step - loss: 0.2701 - accuracy: 0.8920\n",
      "Epoch 65/100\n",
      "24/24 [==============================] - 0s 2ms/step - loss: 0.2695 - accuracy: 0.8933\n",
      "Epoch 66/100\n",
      "24/24 [==============================] - 0s 2ms/step - loss: 0.2690 - accuracy: 0.8933\n",
      "Epoch 67/100\n",
      "24/24 [==============================] - 0s 2ms/step - loss: 0.2685 - accuracy: 0.8933\n",
      "Epoch 68/100\n",
      "24/24 [==============================] - 0s 3ms/step - loss: 0.2681 - accuracy: 0.8933\n",
      "Epoch 69/100\n",
      "24/24 [==============================] - 0s 2ms/step - loss: 0.2675 - accuracy: 0.8933\n",
      "Epoch 70/100\n",
      "24/24 [==============================] - 0s 2ms/step - loss: 0.2670 - accuracy: 0.8933\n",
      "Epoch 71/100\n",
      "24/24 [==============================] - 0s 2ms/step - loss: 0.2666 - accuracy: 0.8933\n",
      "Epoch 72/100\n",
      "24/24 [==============================] - 0s 2ms/step - loss: 0.2661 - accuracy: 0.8933\n",
      "Epoch 73/100\n",
      "24/24 [==============================] - 0s 2ms/step - loss: 0.2658 - accuracy: 0.8933\n",
      "Epoch 74/100\n",
      "24/24 [==============================] - 0s 2ms/step - loss: 0.2652 - accuracy: 0.8933\n",
      "Epoch 75/100\n",
      "24/24 [==============================] - 0s 2ms/step - loss: 0.2649 - accuracy: 0.8920\n",
      "Epoch 76/100\n",
      "24/24 [==============================] - 0s 2ms/step - loss: 0.2645 - accuracy: 0.8920\n",
      "Epoch 77/100\n",
      "24/24 [==============================] - 0s 2ms/step - loss: 0.2642 - accuracy: 0.8920\n",
      "Epoch 78/100\n",
      "24/24 [==============================] - 0s 2ms/step - loss: 0.2638 - accuracy: 0.8920\n",
      "Epoch 79/100\n",
      "24/24 [==============================] - 0s 3ms/step - loss: 0.2634 - accuracy: 0.8920\n",
      "Epoch 80/100\n",
      "24/24 [==============================] - 0s 4ms/step - loss: 0.2631 - accuracy: 0.8907\n",
      "Epoch 81/100\n",
      "24/24 [==============================] - 0s 3ms/step - loss: 0.2627 - accuracy: 0.8907\n",
      "Epoch 82/100\n",
      "24/24 [==============================] - 0s 3ms/step - loss: 0.2624 - accuracy: 0.8907\n",
      "Epoch 83/100\n"
     ]
    },
    {
     "name": "stdout",
     "output_type": "stream",
     "text": [
      "24/24 [==============================] - 0s 3ms/step - loss: 0.2622 - accuracy: 0.8907\n",
      "Epoch 84/100\n",
      "24/24 [==============================] - 0s 3ms/step - loss: 0.2618 - accuracy: 0.8907\n",
      "Epoch 85/100\n",
      "24/24 [==============================] - 0s 3ms/step - loss: 0.2616 - accuracy: 0.8907\n",
      "Epoch 86/100\n",
      "24/24 [==============================] - 0s 3ms/step - loss: 0.2613 - accuracy: 0.8920\n",
      "Epoch 87/100\n",
      "24/24 [==============================] - 0s 3ms/step - loss: 0.2610 - accuracy: 0.8920\n",
      "Epoch 88/100\n",
      "24/24 [==============================] - 0s 3ms/step - loss: 0.2607 - accuracy: 0.8920\n",
      "Epoch 89/100\n",
      "24/24 [==============================] - 0s 3ms/step - loss: 0.2605 - accuracy: 0.8920\n",
      "Epoch 90/100\n",
      "24/24 [==============================] - 0s 3ms/step - loss: 0.2603 - accuracy: 0.8920\n",
      "Epoch 91/100\n",
      "24/24 [==============================] - 0s 3ms/step - loss: 0.2600 - accuracy: 0.8920\n",
      "Epoch 92/100\n",
      "24/24 [==============================] - 0s 3ms/step - loss: 0.2598 - accuracy: 0.8920\n",
      "Epoch 93/100\n",
      "24/24 [==============================] - 0s 3ms/step - loss: 0.2597 - accuracy: 0.8920\n",
      "Epoch 94/100\n",
      "24/24 [==============================] - 0s 3ms/step - loss: 0.2593 - accuracy: 0.8920\n",
      "Epoch 95/100\n",
      "24/24 [==============================] - 0s 4ms/step - loss: 0.2591 - accuracy: 0.8920\n",
      "Epoch 96/100\n",
      "24/24 [==============================] - 0s 3ms/step - loss: 0.2589 - accuracy: 0.8920\n",
      "Epoch 97/100\n",
      "24/24 [==============================] - 0s 3ms/step - loss: 0.2587 - accuracy: 0.8920\n",
      "Epoch 98/100\n",
      "24/24 [==============================] - 0s 3ms/step - loss: 0.2585 - accuracy: 0.8920\n",
      "Epoch 99/100\n",
      "24/24 [==============================] - 0s 3ms/step - loss: 0.2582 - accuracy: 0.8920\n",
      "Epoch 100/100\n",
      "24/24 [==============================] - 0s 3ms/step - loss: 0.2581 - accuracy: 0.8920\n"
     ]
    }
   ],
   "source": [
    "# Training the model with the nonlinear data\n",
    "model_moon = nn_model.fit(X_moon_train_scaled, y_moon_train, epochs=100, shuffle=True)"
   ]
  },
  {
   "cell_type": "code",
   "execution_count": 18,
   "metadata": {},
   "outputs": [
    {
     "data": {
      "text/plain": [
       "<matplotlib.axes._subplots.AxesSubplot at 0x7fa6bf0ed710>"
      ]
     },
     "execution_count": 18,
     "metadata": {},
     "output_type": "execute_result"
    },
    {
     "data": {
      "image/png": "[encoded data removed]",
      "text/plain": [
       "<Figure size 432x288 with 1 Axes>"
      ]
     },
     "metadata": {
      "needs_background": "light"
     },
     "output_type": "display_data"
    }
   ],
   "source": [
    "# Create a DataFrame containing training history\n",
    "history_df = pd.DataFrame(model_moon.history, index=range(1,len(model_moon.history[\"loss\"])+1))\n",
    "\n",
    "# Plot the loss\n",
    "history_df.plot(y=\"loss\")"
   ]
  },
  {
   "cell_type": "code",
   "execution_count": 19,
   "metadata": {},
   "outputs": [
    {
     "data": {
      "text/plain": [
       "<matplotlib.axes._subplots.AxesSubplot at 0x7fa6bee687d0>"
      ]
     },
     "execution_count": 19,
     "metadata": {},
     "output_type": "execute_result"
    },
    {
     "data": {
      "image/png": "[encoded data removed]",
      "text/plain": [
       "<Figure size 432x288 with 1 Axes>"
      ]
     },
     "metadata": {
      "needs_background": "light"
     },
     "output_type": "display_data"
    }
   ],
   "source": [
    "# Plot the accuracy\n",
    "history_df.plot(y=\"accuracy\")"
   ]
  },
  {
   "cell_type": "code",
   "execution_count": 20,
   "metadata": {},
   "outputs": [],
   "source": [
    "# Generate our new Sequential model\n",
    "new_model = tf.keras.models.Sequential()"
   ]
  },
  {
   "cell_type": "code",
   "execution_count": 21,
   "metadata": {},
   "outputs": [],
   "source": [
    "# Add the input and hidden layer\n",
    "number_inputs = 2\n",
    "number_hidden_nodes = 6\n",
    "\n",
    "new_model.add(tf.keras.layers.Dense(units=number_hidden_nodes, activation=\"relu\", input_dim=number_inputs))\n",
    "\n",
    "# Add the output layer that uses a probability activation function\n",
    "new_model.add(tf.keras.layers.Dense(units=1, activation=\"sigmoid\"))"
   ]
  },
  {
   "cell_type": "code",
   "execution_count": 22,
   "metadata": {},
   "outputs": [
    {
     "name": "stdout",
     "output_type": "stream",
     "text": [
      "Epoch 1/100\n",
      "24/24 [==============================] - 0s 1ms/step - loss: 0.5232 - accuracy: 0.6613\n",
      "Epoch 2/100\n",
      "24/24 [==============================] - 0s 2ms/step - loss: 0.5006 - accuracy: 0.7960\n",
      "Epoch 3/100\n",
      "24/24 [==============================] - 0s 2ms/step - loss: 0.4806 - accuracy: 0.8280\n",
      "Epoch 4/100\n",
      "24/24 [==============================] - 0s 2ms/step - loss: 0.4623 - accuracy: 0.8347\n",
      "Epoch 5/100\n",
      "24/24 [==============================] - 0s 3ms/step - loss: 0.4449 - accuracy: 0.8400\n",
      "Epoch 6/100\n",
      "24/24 [==============================] - 0s 2ms/step - loss: 0.4285 - accuracy: 0.8453\n",
      "Epoch 7/100\n",
      "24/24 [==============================] - 0s 2ms/step - loss: 0.4128 - accuracy: 0.8507\n",
      "Epoch 8/100\n",
      "24/24 [==============================] - 0s 2ms/step - loss: 0.3977 - accuracy: 0.8520\n",
      "Epoch 9/100\n",
      "24/24 [==============================] - 0s 2ms/step - loss: 0.3834 - accuracy: 0.8520\n",
      "Epoch 10/100\n",
      "24/24 [==============================] - 0s 2ms/step - loss: 0.3696 - accuracy: 0.8573\n",
      "Epoch 11/100\n",
      "24/24 [==============================] - 0s 4ms/step - loss: 0.3570 - accuracy: 0.8613\n",
      "Epoch 12/100\n",
      "24/24 [==============================] - 0s 2ms/step - loss: 0.3456 - accuracy: 0.8613\n",
      "Epoch 13/100\n",
      "24/24 [==============================] - 0s 6ms/step - loss: 0.3350 - accuracy: 0.8653\n",
      "Epoch 14/100\n",
      "24/24 [==============================] - 0s 2ms/step - loss: 0.3258 - accuracy: 0.8667\n",
      "Epoch 15/100\n",
      "24/24 [==============================] - 0s 2ms/step - loss: 0.3174 - accuracy: 0.8693\n",
      "Epoch 16/100\n",
      "24/24 [==============================] - 0s 2ms/step - loss: 0.3098 - accuracy: 0.8707\n",
      "Epoch 17/100\n",
      "24/24 [==============================] - 0s 2ms/step - loss: 0.3034 - accuracy: 0.8733\n",
      "Epoch 18/100\n",
      "24/24 [==============================] - 0s 2ms/step - loss: 0.2976 - accuracy: 0.8760\n",
      "Epoch 19/100\n",
      "24/24 [==============================] - 0s 2ms/step - loss: 0.2924 - accuracy: 0.8773\n",
      "Epoch 20/100\n",
      "24/24 [==============================] - 0s 3ms/step - loss: 0.2879 - accuracy: 0.8773\n",
      "Epoch 21/100\n",
      "24/24 [==============================] - 0s 3ms/step - loss: 0.2838 - accuracy: 0.8800\n",
      "Epoch 22/100\n",
      "24/24 [==============================] - 0s 2ms/step - loss: 0.2800 - accuracy: 0.8800\n",
      "Epoch 23/100\n",
      "24/24 [==============================] - 0s 3ms/step - loss: 0.2765 - accuracy: 0.8813\n",
      "Epoch 24/100\n",
      "24/24 [==============================] - 0s 3ms/step - loss: 0.2734 - accuracy: 0.8813\n",
      "Epoch 25/100\n",
      "24/24 [==============================] - 0s 2ms/step - loss: 0.2704 - accuracy: 0.8813\n",
      "Epoch 26/100\n",
      "24/24 [==============================] - 0s 2ms/step - loss: 0.2679 - accuracy: 0.8813\n",
      "Epoch 27/100\n",
      "24/24 [==============================] - 0s 2ms/step - loss: 0.2655 - accuracy: 0.8827\n",
      "Epoch 28/100\n",
      "24/24 [==============================] - 0s 2ms/step - loss: 0.2632 - accuracy: 0.8827\n",
      "Epoch 29/100\n",
      "24/24 [==============================] - 0s 2ms/step - loss: 0.2613 - accuracy: 0.8840\n",
      "Epoch 30/100\n",
      "24/24 [==============================] - 0s 2ms/step - loss: 0.2594 - accuracy: 0.8867\n",
      "Epoch 31/100\n",
      "24/24 [==============================] - 0s 2ms/step - loss: 0.2577 - accuracy: 0.8880\n",
      "Epoch 32/100\n",
      "24/24 [==============================] - 0s 2ms/step - loss: 0.2559 - accuracy: 0.8907\n",
      "Epoch 33/100\n",
      "24/24 [==============================] - 0s 2ms/step - loss: 0.2542 - accuracy: 0.8920\n",
      "Epoch 34/100\n",
      "24/24 [==============================] - 0s 2ms/step - loss: 0.2527 - accuracy: 0.8960\n",
      "Epoch 35/100\n",
      "24/24 [==============================] - 0s 2ms/step - loss: 0.2514 - accuracy: 0.8947\n",
      "Epoch 36/100\n",
      "24/24 [==============================] - 0s 2ms/step - loss: 0.2500 - accuracy: 0.8973\n",
      "Epoch 37/100\n",
      "24/24 [==============================] - 0s 3ms/step - loss: 0.2487 - accuracy: 0.8973\n",
      "Epoch 38/100\n",
      "24/24 [==============================] - 0s 2ms/step - loss: 0.2476 - accuracy: 0.8987\n",
      "Epoch 39/100\n",
      "24/24 [==============================] - 0s 2ms/step - loss: 0.2467 - accuracy: 0.9000\n",
      "Epoch 40/100\n",
      "24/24 [==============================] - 0s 3ms/step - loss: 0.2455 - accuracy: 0.9000\n",
      "Epoch 41/100\n",
      "24/24 [==============================] - 0s 3ms/step - loss: 0.2444 - accuracy: 0.9000\n",
      "Epoch 42/100\n",
      "24/24 [==============================] - 0s 3ms/step - loss: 0.2435 - accuracy: 0.9000\n",
      "Epoch 43/100\n",
      "24/24 [==============================] - 0s 2ms/step - loss: 0.2425 - accuracy: 0.9000\n",
      "Epoch 44/100\n",
      "24/24 [==============================] - 0s 2ms/step - loss: 0.2417 - accuracy: 0.9013\n",
      "Epoch 45/100\n",
      "24/24 [==============================] - 0s 3ms/step - loss: 0.2406 - accuracy: 0.9013\n",
      "Epoch 46/100\n",
      "24/24 [==============================] - 0s 2ms/step - loss: 0.2397 - accuracy: 0.9013\n",
      "Epoch 47/100\n",
      "24/24 [==============================] - 0s 2ms/step - loss: 0.2387 - accuracy: 0.9013\n",
      "Epoch 48/100\n",
      "24/24 [==============================] - 0s 2ms/step - loss: 0.2380 - accuracy: 0.9013\n",
      "Epoch 49/100\n",
      "24/24 [==============================] - 0s 3ms/step - loss: 0.2371 - accuracy: 0.9013\n",
      "Epoch 50/100\n",
      "24/24 [==============================] - 0s 2ms/step - loss: 0.2361 - accuracy: 0.9013\n",
      "Epoch 51/100\n",
      "24/24 [==============================] - 0s 2ms/step - loss: 0.2353 - accuracy: 0.9013\n",
      "Epoch 52/100\n",
      "24/24 [==============================] - 0s 2ms/step - loss: 0.2344 - accuracy: 0.9000\n",
      "Epoch 53/100\n",
      "24/24 [==============================] - 0s 2ms/step - loss: 0.2336 - accuracy: 0.9000\n",
      "Epoch 54/100\n",
      "24/24 [==============================] - 0s 2ms/step - loss: 0.2328 - accuracy: 0.9000\n",
      "Epoch 55/100\n",
      "24/24 [==============================] - 0s 2ms/step - loss: 0.2318 - accuracy: 0.9000\n",
      "Epoch 56/100\n",
      "24/24 [==============================] - 0s 2ms/step - loss: 0.2310 - accuracy: 0.9000\n",
      "Epoch 57/100\n",
      "24/24 [==============================] - 0s 2ms/step - loss: 0.2301 - accuracy: 0.9000\n",
      "Epoch 58/100\n",
      "24/24 [==============================] - 0s 1ms/step - loss: 0.2292 - accuracy: 0.9000\n",
      "Epoch 59/100\n",
      "24/24 [==============================] - 0s 2ms/step - loss: 0.2284 - accuracy: 0.9000\n",
      "Epoch 60/100\n",
      "24/24 [==============================] - 0s 2ms/step - loss: 0.2276 - accuracy: 0.9013\n",
      "Epoch 61/100\n",
      "24/24 [==============================] - 0s 2ms/step - loss: 0.2267 - accuracy: 0.9040\n",
      "Epoch 62/100\n",
      "24/24 [==============================] - 0s 2ms/step - loss: 0.2259 - accuracy: 0.9053\n",
      "Epoch 63/100\n",
      "24/24 [==============================] - 0s 2ms/step - loss: 0.2251 - accuracy: 0.9053\n",
      "Epoch 64/100\n",
      "24/24 [==============================] - 0s 2ms/step - loss: 0.2241 - accuracy: 0.9053\n",
      "Epoch 65/100\n",
      "24/24 [==============================] - 0s 4ms/step - loss: 0.2231 - accuracy: 0.9053\n",
      "Epoch 66/100\n",
      "24/24 [==============================] - 0s 2ms/step - loss: 0.2222 - accuracy: 0.9053\n",
      "Epoch 67/100\n",
      "24/24 [==============================] - 0s 2ms/step - loss: 0.2213 - accuracy: 0.9053\n",
      "Epoch 68/100\n",
      "24/24 [==============================] - 0s 2ms/step - loss: 0.2203 - accuracy: 0.9067\n",
      "Epoch 69/100\n",
      "24/24 [==============================] - 0s 1ms/step - loss: 0.2194 - accuracy: 0.9067\n",
      "Epoch 70/100\n",
      "24/24 [==============================] - 0s 2ms/step - loss: 0.2183 - accuracy: 0.9067\n",
      "Epoch 71/100\n",
      "24/24 [==============================] - 0s 3ms/step - loss: 0.2174 - accuracy: 0.9067\n",
      "Epoch 72/100\n",
      "24/24 [==============================] - 0s 1ms/step - loss: 0.2163 - accuracy: 0.9080\n",
      "Epoch 73/100\n",
      "24/24 [==============================] - 0s 1ms/step - loss: 0.2153 - accuracy: 0.9080\n",
      "Epoch 74/100\n",
      "24/24 [==============================] - 0s 3ms/step - loss: 0.2142 - accuracy: 0.9107\n",
      "Epoch 75/100\n",
      "24/24 [==============================] - 0s 2ms/step - loss: 0.2131 - accuracy: 0.9107\n",
      "Epoch 76/100\n",
      "24/24 [==============================] - 0s 3ms/step - loss: 0.2121 - accuracy: 0.9093\n",
      "Epoch 77/100\n",
      "24/24 [==============================] - 0s 1ms/step - loss: 0.2108 - accuracy: 0.9107\n",
      "Epoch 78/100\n",
      "24/24 [==============================] - 0s 3ms/step - loss: 0.2098 - accuracy: 0.9107\n",
      "Epoch 79/100\n",
      "24/24 [==============================] - 0s 4ms/step - loss: 0.2086 - accuracy: 0.9133\n",
      "Epoch 80/100\n",
      "24/24 [==============================] - 0s 2ms/step - loss: 0.2075 - accuracy: 0.9133\n",
      "Epoch 81/100\n",
      "24/24 [==============================] - 0s 3ms/step - loss: 0.2062 - accuracy: 0.9120\n",
      "Epoch 82/100\n",
      "24/24 [==============================] - 0s 3ms/step - loss: 0.2051 - accuracy: 0.9147\n",
      "Epoch 83/100\n"
     ]
    },
    {
     "name": "stdout",
     "output_type": "stream",
     "text": [
      "24/24 [==============================] - 0s 3ms/step - loss: 0.2039 - accuracy: 0.9133\n",
      "Epoch 84/100\n",
      "24/24 [==============================] - 0s 2ms/step - loss: 0.2026 - accuracy: 0.9147\n",
      "Epoch 85/100\n",
      "24/24 [==============================] - 0s 2ms/step - loss: 0.2013 - accuracy: 0.9173\n",
      "Epoch 86/100\n",
      "24/24 [==============================] - 0s 3ms/step - loss: 0.2000 - accuracy: 0.9173\n",
      "Epoch 87/100\n",
      "24/24 [==============================] - 0s 4ms/step - loss: 0.1988 - accuracy: 0.9187\n",
      "Epoch 88/100\n",
      "24/24 [==============================] - 0s 4ms/step - loss: 0.1974 - accuracy: 0.9187\n",
      "Epoch 89/100\n",
      "24/24 [==============================] - 0s 3ms/step - loss: 0.1961 - accuracy: 0.9187\n",
      "Epoch 90/100\n",
      "24/24 [==============================] - 0s 2ms/step - loss: 0.1945 - accuracy: 0.9200\n",
      "Epoch 91/100\n",
      "24/24 [==============================] - 0s 2ms/step - loss: 0.1933 - accuracy: 0.9200\n",
      "Epoch 92/100\n",
      "24/24 [==============================] - 0s 3ms/step - loss: 0.1918 - accuracy: 0.9200\n",
      "Epoch 93/100\n",
      "24/24 [==============================] - 0s 983us/step - loss: 0.1904 - accuracy: 0.9200\n",
      "Epoch 94/100\n",
      "24/24 [==============================] - 0s 951us/step - loss: 0.1892 - accuracy: 0.9213\n",
      "Epoch 95/100\n",
      "24/24 [==============================] - 0s 998us/step - loss: 0.1875 - accuracy: 0.9213\n",
      "Epoch 96/100\n",
      "24/24 [==============================] - 0s 983us/step - loss: 0.1860 - accuracy: 0.9227\n",
      "Epoch 97/100\n",
      "24/24 [==============================] - 0s 1ms/step - loss: 0.1845 - accuracy: 0.9227\n",
      "Epoch 98/100\n",
      "24/24 [==============================] - 0s 1ms/step - loss: 0.1831 - accuracy: 0.9227\n",
      "Epoch 99/100\n",
      "24/24 [==============================] - 0s 927us/step - loss: 0.1815 - accuracy: 0.9240\n",
      "Epoch 100/100\n",
      "24/24 [==============================] - 0s 3ms/step - loss: 0.1800 - accuracy: 0.9253\n"
     ]
    }
   ],
   "source": [
    "# Compile the Sequential model together and customize metrics\n",
    "new_model.compile(loss=\"binary_crossentropy\", optimizer=\"adam\", metrics=[\"accuracy\"])\n",
    "\n",
    "# Fit the model to the training data\n",
    "new_fit_model = new_model.fit(X_moon_train_scaled, y_moon_train, epochs=100, shuffle=True)"
   ]
  },
  {
   "cell_type": "code",
   "execution_count": null,
   "metadata": {},
   "outputs": [],
   "source": []
  }
 ],
 "metadata": {
  "kernelspec": {
   "display_name": "PythonData",
   "language": "python",
   "name": "pythondata"
  },
  "language_info": {
   "codemirror_mode": {
    "name": "ipython",
    "version": 3
   },
   "file_extension": ".py",
   "mimetype": "text/x-python",
   "name": "python",
   "nbconvert_exporter": "python",
   "pygments_lexer": "ipython3",
   "version": "3.7.7"
  }
 },
 "nbformat": 4,
 "nbformat_minor": 4
}
